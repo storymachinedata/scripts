{
 "cells": [
  {
   "cell_type": "code",
   "execution_count": 1,
   "metadata": {},
   "outputs": [],
   "source": [
    "import pandas as pd\n",
    "import matplotlib.pyplot as plt\n",
    "import numpy as np\n",
    "from datetime import datetime\n",
    "import pytz\n",
    "import re"
   ]
  },
  {
   "cell_type": "code",
   "execution_count": 2,
   "metadata": {},
   "outputs": [],
   "source": [
    "## function to extract date for the linkedin activity\n",
    "\n",
    "def getDate(text):\n",
    "    a= re.findall(r\"\\D(\\d{19})\\D\", text)\n",
    "    a= re.findall(r\"\\d{19}\", text)\n",
    "    a = int(''.join(a))\n",
    "    a = format(a, 'b')\n",
    "    first41chars = a[:41]\n",
    "    ts = int(first41chars,2)\n",
    "    actual_time = datetime.utcfromtimestamp(ts/1000).strftime(\"%Y-%m-%d %H:%M:%S %Z\")\n",
    "    tz = pytz.timezone('Europe/Paris')\n",
    "    localtime = datetime.fromtimestamp(ts/1000, tz).strftime(\"%Y-%m-%d %H:%M:%S %Z\")\n",
    "    return localtime\n"
   ]
  },
  {
   "cell_type": "code",
   "execution_count": 35,
   "metadata": {},
   "outputs": [],
   "source": [
    "# read the csv data\n",
    "filepath = '/Users/sundarsitaula/Downloads/result (7).csv'\n",
    "df = pd.read_csv(filepath)\n",
    "df = df[df['action'] != 'Post']"
   ]
  },
  {
   "cell_type": "code",
   "execution_count": 4,
   "metadata": {},
   "outputs": [],
   "source": [
    "## mapper dicts and function to rename reactions\n",
    "\n",
    "\n",
    "mapper_1 = {'liked':'liked a comment on their own post', 'likes': 'liked post',\n",
    "            'commented': 'commented', 'replied': 'replied to a comment'}\n",
    "\n",
    "mapper_2 = {\"liked post\": \"likes and reactions\",  \"celebrates\" : \"likes and reactions\",\n",
    "           \"loves\" : \"likes and reactions\",  \"finds insightful\" : \"likes and reactions\", \n",
    "           'curios': \"likes and reactions\", 'supports': \"likes and reactions\", 'reposted' : 'reposted'}\n",
    "\n",
    "mapper_3 = {\"likes and reactions\" : \"Outreach\",\n",
    "            \"liked a comment on their own post\" : \"Community Management\",\n",
    "            \"commented\" : \"Outreach\",\n",
    "            \"replied to a comment\": \"Community Management\",\n",
    "            'reposted': 'Outreach' }\n",
    "\n",
    "\n",
    "def rename_reactions(reactions):\n",
    "    if 'liked' in reactions:\n",
    "        return mapper_1['liked']\n",
    "    elif 'likes' in reactions:\n",
    "        return mapper_1['likes']\n",
    "    elif 'commented' in reactions:\n",
    "        return 'commented'\n",
    "    elif 'replied'in reactions:\n",
    "        return mapper_1['replied']\n",
    "    elif 'celebrates' in reactions:\n",
    "        return 'celebrates'\n",
    "    elif 'supports' in reactions:\n",
    "        return 'supports'\n",
    "    elif 'insightful' in reactions:\n",
    "        return 'finds insightful'\n",
    "    elif 'curious' in reactions:\n",
    "        return 'curios'\n",
    "    elif 'loves' in reactions:\n",
    "        return 'loves'\n",
    "    elif 'reposted' in reactions:\n",
    "        return 'reposted'\n",
    "\n",
    "\n",
    "    else:\n",
    "        return reactions"
   ]
  },
  {
   "cell_type": "code",
   "execution_count": 36,
   "metadata": {},
   "outputs": [],
   "source": [
    "df['Activity'] = df.action.apply(rename_reactions)\n",
    "df['Activity'] = df.Activity.apply(lambda x : mapper_2[x] if x in mapper_2.keys() else x)\n",
    "df[\"Outreach_type\"] = df.Activity.apply(lambda x : mapper_3[x])\n",
    "df['posting_date'] = df.postUrl.apply(getDate)\n",
    "df['month'] = pd.to_datetime(df.posting_date).dt.month_name()\n",
    "df['year'] = pd.to_datetime(df.posting_date).dt.year"
   ]
  },
  {
   "cell_type": "code",
   "execution_count": 37,
   "metadata": {},
   "outputs": [
    {
     "data": {
      "text/html": [
       "<div>\n",
       "<style scoped>\n",
       "    .dataframe tbody tr th:only-of-type {\n",
       "        vertical-align: middle;\n",
       "    }\n",
       "\n",
       "    .dataframe tbody tr th {\n",
       "        vertical-align: top;\n",
       "    }\n",
       "\n",
       "    .dataframe thead th {\n",
       "        text-align: right;\n",
       "    }\n",
       "</style>\n",
       "<table border=\"1\" class=\"dataframe\">\n",
       "  <thead>\n",
       "    <tr style=\"text-align: right;\">\n",
       "      <th></th>\n",
       "      <th>postUrl</th>\n",
       "      <th>action</th>\n",
       "      <th>imgUrl</th>\n",
       "      <th>type</th>\n",
       "      <th>postContent</th>\n",
       "      <th>likeCount</th>\n",
       "      <th>commentCount</th>\n",
       "      <th>postDate</th>\n",
       "      <th>viewCount</th>\n",
       "      <th>profileUrl</th>\n",
       "      <th>timestamp</th>\n",
       "      <th>sharedPostUrl</th>\n",
       "      <th>repostCount</th>\n",
       "      <th>videoUrl</th>\n",
       "      <th>sharedJobUrl</th>\n",
       "      <th>Activity</th>\n",
       "      <th>Outreach_type</th>\n",
       "      <th>posting_date</th>\n",
       "      <th>month</th>\n",
       "      <th>year</th>\n",
       "    </tr>\n",
       "  </thead>\n",
       "  <tbody>\n",
       "    <tr>\n",
       "      <th>295</th>\n",
       "      <td>https://www.linkedin.com/feed/update/urn:li:ac...</td>\n",
       "      <td>Robin Laik likes this</td>\n",
       "      <td>https://media.licdn.com/dms/image/C4E22AQEDwyp...</td>\n",
       "      <td>Image</td>\n",
       "      <td>Unser #primepulse CEO &amp; Co-Founder Klaus Weinm...</td>\n",
       "      <td>72</td>\n",
       "      <td>0</td>\n",
       "      <td>1yr</td>\n",
       "      <td>NaN</td>\n",
       "      <td>https://www.linkedin.com/in/robin-laik-34b7a1102/</td>\n",
       "      <td>2023-01-05T11:18:06.415Z</td>\n",
       "      <td>NaN</td>\n",
       "      <td>NaN</td>\n",
       "      <td>NaN</td>\n",
       "      <td>NaN</td>\n",
       "      <td>likes and reactions</td>\n",
       "      <td>Outreach</td>\n",
       "      <td>2022-01-12 16:10:34 CET</td>\n",
       "      <td>January</td>\n",
       "      <td>2022</td>\n",
       "    </tr>\n",
       "    <tr>\n",
       "      <th>296</th>\n",
       "      <td>https://www.linkedin.com/feed/update/urn:li:ac...</td>\n",
       "      <td>Robin Laik likes this</td>\n",
       "      <td>https://media.licdn.com/dms/image/C4E22AQEtLzq...</td>\n",
       "      <td>Image</td>\n",
       "      <td>Donges SteelTec impft!Gestern konnten sich Mit...</td>\n",
       "      <td>41</td>\n",
       "      <td>1</td>\n",
       "      <td>1yr</td>\n",
       "      <td>NaN</td>\n",
       "      <td>https://www.linkedin.com/in/robin-laik-34b7a1102/</td>\n",
       "      <td>2023-01-05T11:18:06.415Z</td>\n",
       "      <td>NaN</td>\n",
       "      <td>NaN</td>\n",
       "      <td>NaN</td>\n",
       "      <td>NaN</td>\n",
       "      <td>likes and reactions</td>\n",
       "      <td>Outreach</td>\n",
       "      <td>2022-01-12 15:15:32 CET</td>\n",
       "      <td>January</td>\n",
       "      <td>2022</td>\n",
       "    </tr>\n",
       "    <tr>\n",
       "      <th>297</th>\n",
       "      <td>https://www.linkedin.com/feed/update/urn:li:ac...</td>\n",
       "      <td>Robin Laik likes this</td>\n",
       "      <td>https://media.licdn.com/dms/image/sync/C4D27AQ...</td>\n",
       "      <td>Article</td>\n",
       "      <td>💭Zum Jahresauftakt war unser CIO Johannes Laum...</td>\n",
       "      <td>65</td>\n",
       "      <td>0</td>\n",
       "      <td>1yr</td>\n",
       "      <td>NaN</td>\n",
       "      <td>https://www.linkedin.com/in/robin-laik-34b7a1102/</td>\n",
       "      <td>2023-01-05T11:18:06.416Z</td>\n",
       "      <td>https://www.deraktionaer.de/artikel/aktien/mut...</td>\n",
       "      <td>NaN</td>\n",
       "      <td>NaN</td>\n",
       "      <td>NaN</td>\n",
       "      <td>likes and reactions</td>\n",
       "      <td>Outreach</td>\n",
       "      <td>2022-01-12 12:49:01 CET</td>\n",
       "      <td>January</td>\n",
       "      <td>2022</td>\n",
       "    </tr>\n",
       "    <tr>\n",
       "      <th>298</th>\n",
       "      <td>https://www.linkedin.com/feed/update/urn:li:ac...</td>\n",
       "      <td>Robin Laik likes this</td>\n",
       "      <td>NaN</td>\n",
       "      <td>Text</td>\n",
       "      <td>I wish all our people, shareholders and stakeh...</td>\n",
       "      <td>146</td>\n",
       "      <td>1</td>\n",
       "      <td>1yr</td>\n",
       "      <td>NaN</td>\n",
       "      <td>https://www.linkedin.com/in/robin-laik-34b7a1102/</td>\n",
       "      <td>2023-01-05T11:18:06.416Z</td>\n",
       "      <td>NaN</td>\n",
       "      <td>NaN</td>\n",
       "      <td>NaN</td>\n",
       "      <td>NaN</td>\n",
       "      <td>likes and reactions</td>\n",
       "      <td>Outreach</td>\n",
       "      <td>2022-01-10 13:47:54 CET</td>\n",
       "      <td>January</td>\n",
       "      <td>2022</td>\n",
       "    </tr>\n",
       "    <tr>\n",
       "      <th>299</th>\n",
       "      <td>https://www.linkedin.com/feed/update/urn:li:ac...</td>\n",
       "      <td>Robin Laik likes this</td>\n",
       "      <td>https://media.licdn.com/dms/image/C5622AQF6SnW...</td>\n",
       "      <td>Image</td>\n",
       "      <td>CLECIM PORTRAIT N°6: Let’s meet our people We ...</td>\n",
       "      <td>59</td>\n",
       "      <td>9</td>\n",
       "      <td>1yr</td>\n",
       "      <td>NaN</td>\n",
       "      <td>https://www.linkedin.com/in/robin-laik-34b7a1102/</td>\n",
       "      <td>2023-01-05T11:18:06.416Z</td>\n",
       "      <td>NaN</td>\n",
       "      <td>3.0</td>\n",
       "      <td>NaN</td>\n",
       "      <td>NaN</td>\n",
       "      <td>likes and reactions</td>\n",
       "      <td>Outreach</td>\n",
       "      <td>2022-01-09 10:16:20 CET</td>\n",
       "      <td>January</td>\n",
       "      <td>2022</td>\n",
       "    </tr>\n",
       "  </tbody>\n",
       "</table>\n",
       "</div>"
      ],
      "text/plain": [
       "                                               postUrl                 action  \\\n",
       "295  https://www.linkedin.com/feed/update/urn:li:ac...  Robin Laik likes this   \n",
       "296  https://www.linkedin.com/feed/update/urn:li:ac...  Robin Laik likes this   \n",
       "297  https://www.linkedin.com/feed/update/urn:li:ac...  Robin Laik likes this   \n",
       "298  https://www.linkedin.com/feed/update/urn:li:ac...  Robin Laik likes this   \n",
       "299  https://www.linkedin.com/feed/update/urn:li:ac...  Robin Laik likes this   \n",
       "\n",
       "                                                imgUrl     type  \\\n",
       "295  https://media.licdn.com/dms/image/C4E22AQEDwyp...    Image   \n",
       "296  https://media.licdn.com/dms/image/C4E22AQEtLzq...    Image   \n",
       "297  https://media.licdn.com/dms/image/sync/C4D27AQ...  Article   \n",
       "298                                                NaN     Text   \n",
       "299  https://media.licdn.com/dms/image/C5622AQF6SnW...    Image   \n",
       "\n",
       "                                           postContent  likeCount  \\\n",
       "295  Unser #primepulse CEO & Co-Founder Klaus Weinm...         72   \n",
       "296  Donges SteelTec impft!Gestern konnten sich Mit...         41   \n",
       "297  💭Zum Jahresauftakt war unser CIO Johannes Laum...         65   \n",
       "298  I wish all our people, shareholders and stakeh...        146   \n",
       "299  CLECIM PORTRAIT N°6: Let’s meet our people We ...         59   \n",
       "\n",
       "     commentCount postDate  viewCount  \\\n",
       "295             0      1yr        NaN   \n",
       "296             1      1yr        NaN   \n",
       "297             0      1yr        NaN   \n",
       "298             1      1yr        NaN   \n",
       "299             9      1yr        NaN   \n",
       "\n",
       "                                            profileUrl  \\\n",
       "295  https://www.linkedin.com/in/robin-laik-34b7a1102/   \n",
       "296  https://www.linkedin.com/in/robin-laik-34b7a1102/   \n",
       "297  https://www.linkedin.com/in/robin-laik-34b7a1102/   \n",
       "298  https://www.linkedin.com/in/robin-laik-34b7a1102/   \n",
       "299  https://www.linkedin.com/in/robin-laik-34b7a1102/   \n",
       "\n",
       "                    timestamp  \\\n",
       "295  2023-01-05T11:18:06.415Z   \n",
       "296  2023-01-05T11:18:06.415Z   \n",
       "297  2023-01-05T11:18:06.416Z   \n",
       "298  2023-01-05T11:18:06.416Z   \n",
       "299  2023-01-05T11:18:06.416Z   \n",
       "\n",
       "                                         sharedPostUrl  repostCount videoUrl  \\\n",
       "295                                                NaN          NaN      NaN   \n",
       "296                                                NaN          NaN      NaN   \n",
       "297  https://www.deraktionaer.de/artikel/aktien/mut...          NaN      NaN   \n",
       "298                                                NaN          NaN      NaN   \n",
       "299                                                NaN          3.0      NaN   \n",
       "\n",
       "    sharedJobUrl             Activity Outreach_type             posting_date  \\\n",
       "295          NaN  likes and reactions      Outreach  2022-01-12 16:10:34 CET   \n",
       "296          NaN  likes and reactions      Outreach  2022-01-12 15:15:32 CET   \n",
       "297          NaN  likes and reactions      Outreach  2022-01-12 12:49:01 CET   \n",
       "298          NaN  likes and reactions      Outreach  2022-01-10 13:47:54 CET   \n",
       "299          NaN  likes and reactions      Outreach  2022-01-09 10:16:20 CET   \n",
       "\n",
       "       month  year  \n",
       "295  January  2022  \n",
       "296  January  2022  \n",
       "297  January  2022  \n",
       "298  January  2022  \n",
       "299  January  2022  "
      ]
     },
     "execution_count": 37,
     "metadata": {},
     "output_type": "execute_result"
    }
   ],
   "source": [
    "df.tail()"
   ]
  },
  {
   "cell_type": "code",
   "execution_count": 38,
   "metadata": {},
   "outputs": [],
   "source": [
    "df = df[['Activity', 'Outreach_type']]"
   ]
  },
  {
   "cell_type": "code",
   "execution_count": 39,
   "metadata": {},
   "outputs": [
    {
     "data": {
      "text/plain": [
       "Outreach                299\n",
       "Community Management      1\n",
       "Name: Outreach_type, dtype: int64"
      ]
     },
     "execution_count": 39,
     "metadata": {},
     "output_type": "execute_result"
    }
   ],
   "source": [
    "df.Outreach_type.value_counts()"
   ]
  },
  {
   "cell_type": "code",
   "execution_count": 40,
   "metadata": {},
   "outputs": [
    {
     "data": {
      "text/html": [
       "<div>\n",
       "<style scoped>\n",
       "    .dataframe tbody tr th:only-of-type {\n",
       "        vertical-align: middle;\n",
       "    }\n",
       "\n",
       "    .dataframe tbody tr th {\n",
       "        vertical-align: top;\n",
       "    }\n",
       "\n",
       "    .dataframe thead th {\n",
       "        text-align: right;\n",
       "    }\n",
       "</style>\n",
       "<table border=\"1\" class=\"dataframe\">\n",
       "  <thead>\n",
       "    <tr style=\"text-align: right;\">\n",
       "      <th></th>\n",
       "      <th>Activity</th>\n",
       "      <th>Outreach_type</th>\n",
       "    </tr>\n",
       "  </thead>\n",
       "  <tbody>\n",
       "    <tr>\n",
       "      <th>0</th>\n",
       "      <td>likes and reactions</td>\n",
       "      <td>Outreach</td>\n",
       "    </tr>\n",
       "    <tr>\n",
       "      <th>1</th>\n",
       "      <td>likes and reactions</td>\n",
       "      <td>Outreach</td>\n",
       "    </tr>\n",
       "    <tr>\n",
       "      <th>2</th>\n",
       "      <td>likes and reactions</td>\n",
       "      <td>Outreach</td>\n",
       "    </tr>\n",
       "    <tr>\n",
       "      <th>3</th>\n",
       "      <td>likes and reactions</td>\n",
       "      <td>Outreach</td>\n",
       "    </tr>\n",
       "    <tr>\n",
       "      <th>4</th>\n",
       "      <td>likes and reactions</td>\n",
       "      <td>Outreach</td>\n",
       "    </tr>\n",
       "  </tbody>\n",
       "</table>\n",
       "</div>"
      ],
      "text/plain": [
       "              Activity Outreach_type\n",
       "0  likes and reactions      Outreach\n",
       "1  likes and reactions      Outreach\n",
       "2  likes and reactions      Outreach\n",
       "3  likes and reactions      Outreach\n",
       "4  likes and reactions      Outreach"
      ]
     },
     "execution_count": 40,
     "metadata": {},
     "output_type": "execute_result"
    }
   ],
   "source": [
    "df.head()"
   ]
  },
  {
   "cell_type": "code",
   "execution_count": 43,
   "metadata": {},
   "outputs": [],
   "source": [
    "sdf = df.groupby('Outreach_type')['Activity'].value_counts().unstack(level=0).reset_index()\n",
    "sdf = sdf.melt(id_vars=[ 'Activity'], var_name=\"Outreach_type\", value_name = \"Counts\").fillna(0)\n",
    "sdf = sdf[sdf.Counts>0]"
   ]
  },
  {
   "cell_type": "code",
   "execution_count": 44,
   "metadata": {},
   "outputs": [
    {
     "data": {
      "text/html": [
       "<div>\n",
       "<style scoped>\n",
       "    .dataframe tbody tr th:only-of-type {\n",
       "        vertical-align: middle;\n",
       "    }\n",
       "\n",
       "    .dataframe tbody tr th {\n",
       "        vertical-align: top;\n",
       "    }\n",
       "\n",
       "    .dataframe thead th {\n",
       "        text-align: right;\n",
       "    }\n",
       "</style>\n",
       "<table border=\"1\" class=\"dataframe\">\n",
       "  <thead>\n",
       "    <tr style=\"text-align: right;\">\n",
       "      <th></th>\n",
       "      <th>Activity</th>\n",
       "      <th>Outreach_type</th>\n",
       "      <th>Counts</th>\n",
       "    </tr>\n",
       "  </thead>\n",
       "  <tbody>\n",
       "    <tr>\n",
       "      <th>0</th>\n",
       "      <td>liked a comment on their own post</td>\n",
       "      <td>Community Management</td>\n",
       "      <td>1.0</td>\n",
       "    </tr>\n",
       "    <tr>\n",
       "      <th>3</th>\n",
       "      <td>likes and reactions</td>\n",
       "      <td>Outreach</td>\n",
       "      <td>299.0</td>\n",
       "    </tr>\n",
       "  </tbody>\n",
       "</table>\n",
       "</div>"
      ],
      "text/plain": [
       "                            Activity         Outreach_type  Counts\n",
       "0  liked a comment on their own post  Community Management     1.0\n",
       "3                likes and reactions              Outreach   299.0"
      ]
     },
     "execution_count": 44,
     "metadata": {},
     "output_type": "execute_result"
    }
   ],
   "source": [
    "sdf.head()"
   ]
  },
  {
   "cell_type": "code",
   "execution_count": 46,
   "metadata": {},
   "outputs": [
    {
     "data": {
      "image/png": "[encoded data removed]",
      "text/plain": [
       "<Figure size 720x720 with 1 Axes>"
      ]
     },
     "metadata": {},
     "output_type": "display_data"
    }
   ],
   "source": [
    "from cProfile import label\n",
    "from enum import auto\n",
    "from turtle import color, title, width\n",
    "\n",
    "\n",
    "fig, ax = plt.subplots(figsize = (10,10))\n",
    "\n",
    "size = 0.3\n",
    "vals = np.array([[60., 32.], [37., 40.], [29., 10.]])\n",
    "\n",
    "cmap = plt.get_cmap(\"tab20c\")\n",
    "outer_colors = cmap(np.arange(3)*4)\n",
    "inner_colors = cmap(np.array([1, 5, 8, 12, 15, 19]))\n",
    "\n",
    "wedges,texts, autopcts = ax.pie(sdf.groupby('Outreach_type', sort=False)[\"Counts\"].sum(), radius=1, colors=outer_colors,  autopct='%1.1f%%', pctdistance=1.0,\n",
    "       wedgeprops=dict(width=size, edgecolor='w'))\n",
    "\n",
    "bbox_props = dict(boxstyle=\"square,pad=0.2\", fc=\"w\", ec=\"k\", lw=1.3)\n",
    "for autopct in autopcts:\n",
    "    autopct.set_color('black')\n",
    "    autopct.set_bbox(bbox_props)\n",
    "\n",
    "\n",
    "bbox_props = dict(boxstyle=\"square,pad=0.5\", fc=\"w\", ec=\"r\", lw=3.1)\n",
    "kw = dict(arrowprops=dict(arrowstyle=\"-\"),\n",
    "          bbox=bbox_props, zorder=0, va=\"bottom\")\n",
    "\n",
    "for i, text in enumerate(texts):\n",
    "    text.set_color(outer_colors[i])\n",
    "    text.set_fontsize(15)\n",
    "\n",
    "\n",
    "for i, p in enumerate(wedges):\n",
    "    ang = (p.theta2 - p.theta1)/2. + p.theta1 \n",
    "    y = np.sin(np.deg2rad(ang))\n",
    "    x = np.cos(np.deg2rad(ang))\n",
    "    horizontalalignment = {-1: \"right\", 1: \"left\"}[int(np.sign(x))]\n",
    "    connectionstyle = \"angle,angleA=0,angleB={}\".format(ang)\n",
    "    kw[\"arrowprops\"].update({\"connectionstyle\": connectionstyle, 'arrowstyle':'<-', 'linewidth': 2}, color= outer_colors[i])\n",
    "    ax.annotate(sdf.Outreach_type.value_counts().index.tolist()[i], color= outer_colors[i], xy=(x, y), xytext=(1.35*np.sign(x), 1.4*y),\n",
    "                horizontalalignment=horizontalalignment, **kw)\n",
    "\n",
    "\n",
    "\n",
    "# ############################################################\n",
    "# # inner pie chart\n",
    "# ############################################################\n",
    "\n",
    "wedges, texts, autopcts = ax.pie(sdf['Counts'], radius=1-size, colors=inner_colors,  labels=sdf.Activity, autopct='%1.1f%%',\n",
    "       wedgeprops=dict(width=size, edgecolor='white'), rotatelabels=True, pctdistance=0.8)\n",
    "\n",
    "bbox_props = dict(boxstyle=\"square,pad=0.2\", fc=\"w\", ec=\"k\", lw=1.3)\n",
    "for autopct, label in zip(autopcts, texts):\n",
    "    autopct.set_color('black')\n",
    "    autopct.set_rotation(label.get_rotation())\n",
    "    autopct.set_bbox(bbox_props)\n",
    "    \n",
    "\n",
    "for txt in texts:\n",
    "    txt.set_alpha(0)\n",
    "\n",
    "for wedge in wedges:\n",
    "    wedge.set_linewidth(3)\n",
    "   \n",
    "\n",
    "\n",
    "bbox_props = dict(boxstyle=\"square,pad=0.5\", fc=\"w\", ec=\"r\", lw=0.1)\n",
    "kw = dict(arrowprops=dict(arrowstyle=\"-\"),\n",
    "          bbox=bbox_props, zorder=0, va=\"bottom\")\n",
    "\n",
    "\n",
    "# # for i, p in enumerate(wedges):\n",
    "# #     ang = (p.theta2 - p.theta1)/2. + p.theta1 \n",
    "# #     y = np.sin(np.deg2rad(ang))\n",
    "# #     x = np.cos(np.deg2rad(ang))\n",
    "# #     horizontalalignment = {-1: \"right\", 1: \"left\"}[int(np.sign(x))]\n",
    "# #     connectionstyle = \"angle,angleA=0,angleB={}\".format(ang)\n",
    "# #     kw[\"arrowprops\"].update({\"connectionstyle\": connectionstyle, 'arrowstyle':'->'}, color = inner_colors[i])\n",
    "# #     ax.annotate(ssdf.Activity.tolist()[i], xy=(x, y), xytext=(1.35*np.sign(x), 1.4*y),\n",
    "# #                 horizontalalignment=horizontalalignment, **kw)\n",
    "\n",
    "\n",
    "ax.legend( title=\"Activity Type\",loc=(1, 0.45) , fontsize = 20)\n",
    "ax.set(aspect=\"equal\", title='Distribution of outreach')\n",
    "# #plt.savefig('krebber_outreach.svg', bbox_inches = 'tight')\n",
    "plt.show() "
   ]
  },
  {
   "cell_type": "code",
   "execution_count": 41,
   "metadata": {},
   "outputs": [
    {
     "name": "stderr",
     "output_type": "stream",
     "text": [
      "/Users/sundarsitaula/opt/anaconda3/envs/ds/lib/python3.10/site-packages/plotly/express/_core.py:1637: FutureWarning:\n",
      "\n",
      "The frame.append method is deprecated and will be removed from pandas in a future version. Use pandas.concat instead.\n",
      "\n",
      "/Users/sundarsitaula/opt/anaconda3/envs/ds/lib/python3.10/site-packages/plotly/express/_core.py:1637: FutureWarning:\n",
      "\n",
      "The frame.append method is deprecated and will be removed from pandas in a future version. Use pandas.concat instead.\n",
      "\n"
     ]
    },
    {
     "data": {
      "application/vnd.plotly.v1+json": {
       "config": {
        "plotlyServerURL": "https://plot.ly"
       },
       "data": [
        {
         "branchvalues": "total",
         "customdata": [
          [
           "Community Management"
          ],
          [
           "Outreach"
          ],
          [
           "Community Management"
          ],
          [
           "Outreach"
          ],
          [
           "Community Management"
          ],
          [
           "Outreach"
          ]
         ],
         "domain": {
          "x": [
           0,
           1
          ],
          "y": [
           0,
           1
          ]
         },
         "hovertemplate": "labels=%{label}<br>Counts=%{value}<br>parent=%{parent}<br>id=%{id}<br>Outreach_type=%{customdata[0]}<extra></extra>",
         "ids": [
          "Community Management/liked a comment on their own post",
          "Outreach/liked a comment on their own post",
          "Community Management/likes and reactions",
          "Outreach/likes and reactions",
          "Community Management",
          "Outreach"
         ],
         "labels": [
          "liked a comment on their own post",
          "liked a comment on their own post",
          "likes and reactions",
          "likes and reactions",
          "Community Management",
          "Outreach"
         ],
         "marker": {
          "colors": [
           "#636efa",
           "#EF553B",
           "#636efa",
           "#EF553B",
           "#636efa",
           "#EF553B"
          ]
         },
         "name": "",
         "parents": [
          "Community Management",
          "Outreach",
          "Community Management",
          "Outreach",
          "",
          ""
         ],
         "type": "sunburst",
         "values": [
          1,
          0,
          0,
          299,
          1,
          299
         ]
        }
       ],
       "layout": {
        "legend": {
         "tracegroupgap": 0
        },
        "margin": {
         "t": 60
        },
        "template": {
         "data": {
          "bar": [
           {
            "error_x": {
             "color": "#2a3f5f"
            },
            "error_y": {
             "color": "#2a3f5f"
            },
            "marker": {
             "line": {
              "color": "#E5ECF6",
              "width": 0.5
             },
             "pattern": {
              "fillmode": "overlay",
              "size": 10,
              "solidity": 0.2
             }
            },
            "type": "bar"
           }
          ],
          "barpolar": [
           {
            "marker": {
             "line": {
              "color": "#E5ECF6",
              "width": 0.5
             },
             "pattern": {
              "fillmode": "overlay",
              "size": 10,
              "solidity": 0.2
             }
            },
            "type": "barpolar"
           }
          ],
          "carpet": [
           {
            "aaxis": {
             "endlinecolor": "#2a3f5f",
             "gridcolor": "white",
             "linecolor": "white",
             "minorgridcolor": "white",
             "startlinecolor": "#2a3f5f"
            },
            "baxis": {
             "endlinecolor": "#2a3f5f",
             "gridcolor": "white",
             "linecolor": "white",
             "minorgridcolor": "white",
             "startlinecolor": "#2a3f5f"
            },
            "type": "carpet"
           }
          ],
          "choropleth": [
           {
            "colorbar": {
             "outlinewidth": 0,
             "ticks": ""
            },
            "type": "choropleth"
           }
          ],
          "contour": [
           {
            "colorbar": {
             "outlinewidth": 0,
             "ticks": ""
            },
            "colorscale": [
             [
              0,
              "#0d0887"
             ],
             [
              0.1111111111111111,
              "#46039f"
             ],
             [
              0.2222222222222222,
              "#7201a8"
             ],
             [
              0.3333333333333333,
              "#9c179e"
             ],
             [
              0.4444444444444444,
              "#bd3786"
             ],
             [
              0.5555555555555556,
              "#d8576b"
             ],
             [
              0.6666666666666666,
              "#ed7953"
             ],
             [
              0.7777777777777778,
              "#fb9f3a"
             ],
             [
              0.8888888888888888,
              "#fdca26"
             ],
             [
              1,
              "#f0f921"
             ]
            ],
            "type": "contour"
           }
          ],
          "contourcarpet": [
           {
            "colorbar": {
             "outlinewidth": 0,
             "ticks": ""
            },
            "type": "contourcarpet"
           }
          ],
          "heatmap": [
           {
            "colorbar": {
             "outlinewidth": 0,
             "ticks": ""
            },
            "colorscale": [
             [
              0,
              "#0d0887"
             ],
             [
              0.1111111111111111,
              "#46039f"
             ],
             [
              0.2222222222222222,
              "#7201a8"
             ],
             [
              0.3333333333333333,
              "#9c179e"
             ],
             [
              0.4444444444444444,
              "#bd3786"
             ],
             [
              0.5555555555555556,
              "#d8576b"
             ],
             [
              0.6666666666666666,
              "#ed7953"
             ],
             [
              0.7777777777777778,
              "#fb9f3a"
             ],
             [
              0.8888888888888888,
              "#fdca26"
             ],
             [
              1,
              "#f0f921"
             ]
            ],
            "type": "heatmap"
           }
          ],
          "heatmapgl": [
           {
            "colorbar": {
             "outlinewidth": 0,
             "ticks": ""
            },
            "colorscale": [
             [
              0,
              "#0d0887"
             ],
             [
              0.1111111111111111,
              "#46039f"
             ],
             [
              0.2222222222222222,
              "#7201a8"
             ],
             [
              0.3333333333333333,
              "#9c179e"
             ],
             [
              0.4444444444444444,
              "#bd3786"
             ],
             [
              0.5555555555555556,
              "#d8576b"
             ],
             [
              0.6666666666666666,
              "#ed7953"
             ],
             [
              0.7777777777777778,
              "#fb9f3a"
             ],
             [
              0.8888888888888888,
              "#fdca26"
             ],
             [
              1,
              "#f0f921"
             ]
            ],
            "type": "heatmapgl"
           }
          ],
          "histogram": [
           {
            "marker": {
             "pattern": {
              "fillmode": "overlay",
              "size": 10,
              "solidity": 0.2
             }
            },
            "type": "histogram"
           }
          ],
          "histogram2d": [
           {
            "colorbar": {
             "outlinewidth": 0,
             "ticks": ""
            },
            "colorscale": [
             [
              0,
              "#0d0887"
             ],
             [
              0.1111111111111111,
              "#46039f"
             ],
             [
              0.2222222222222222,
              "#7201a8"
             ],
             [
              0.3333333333333333,
              "#9c179e"
             ],
             [
              0.4444444444444444,
              "#bd3786"
             ],
             [
              0.5555555555555556,
              "#d8576b"
             ],
             [
              0.6666666666666666,
              "#ed7953"
             ],
             [
              0.7777777777777778,
              "#fb9f3a"
             ],
             [
              0.8888888888888888,
              "#fdca26"
             ],
             [
              1,
              "#f0f921"
             ]
            ],
            "type": "histogram2d"
           }
          ],
          "histogram2dcontour": [
           {
            "colorbar": {
             "outlinewidth": 0,
             "ticks": ""
            },
            "colorscale": [
             [
              0,
              "#0d0887"
             ],
             [
              0.1111111111111111,
              "#46039f"
             ],
             [
              0.2222222222222222,
              "#7201a8"
             ],
             [
              0.3333333333333333,
              "#9c179e"
             ],
             [
              0.4444444444444444,
              "#bd3786"
             ],
             [
              0.5555555555555556,
              "#d8576b"
             ],
             [
              0.6666666666666666,
              "#ed7953"
             ],
             [
              0.7777777777777778,
              "#fb9f3a"
             ],
             [
              0.8888888888888888,
              "#fdca26"
             ],
             [
              1,
              "#f0f921"
             ]
            ],
            "type": "histogram2dcontour"
           }
          ],
          "mesh3d": [
           {
            "colorbar": {
             "outlinewidth": 0,
             "ticks": ""
            },
            "type": "mesh3d"
           }
          ],
          "parcoords": [
           {
            "line": {
             "colorbar": {
              "outlinewidth": 0,
              "ticks": ""
             }
            },
            "type": "parcoords"
           }
          ],
          "pie": [
           {
            "automargin": true,
            "type": "pie"
           }
          ],
          "scatter": [
           {
            "marker": {
             "colorbar": {
              "outlinewidth": 0,
              "ticks": ""
             }
            },
            "type": "scatter"
           }
          ],
          "scatter3d": [
           {
            "line": {
             "colorbar": {
              "outlinewidth": 0,
              "ticks": ""
             }
            },
            "marker": {
             "colorbar": {
              "outlinewidth": 0,
              "ticks": ""
             }
            },
            "type": "scatter3d"
           }
          ],
          "scattercarpet": [
           {
            "marker": {
             "colorbar": {
              "outlinewidth": 0,
              "ticks": ""
             }
            },
            "type": "scattercarpet"
           }
          ],
          "scattergeo": [
           {
            "marker": {
             "colorbar": {
              "outlinewidth": 0,
              "ticks": ""
             }
            },
            "type": "scattergeo"
           }
          ],
          "scattergl": [
           {
            "marker": {
             "colorbar": {
              "outlinewidth": 0,
              "ticks": ""
             }
            },
            "type": "scattergl"
           }
          ],
          "scattermapbox": [
           {
            "marker": {
             "colorbar": {
              "outlinewidth": 0,
              "ticks": ""
             }
            },
            "type": "scattermapbox"
           }
          ],
          "scatterpolar": [
           {
            "marker": {
             "colorbar": {
              "outlinewidth": 0,
              "ticks": ""
             }
            },
            "type": "scatterpolar"
           }
          ],
          "scatterpolargl": [
           {
            "marker": {
             "colorbar": {
              "outlinewidth": 0,
              "ticks": ""
             }
            },
            "type": "scatterpolargl"
           }
          ],
          "scatterternary": [
           {
            "marker": {
             "colorbar": {
              "outlinewidth": 0,
              "ticks": ""
             }
            },
            "type": "scatterternary"
           }
          ],
          "surface": [
           {
            "colorbar": {
             "outlinewidth": 0,
             "ticks": ""
            },
            "colorscale": [
             [
              0,
              "#0d0887"
             ],
             [
              0.1111111111111111,
              "#46039f"
             ],
             [
              0.2222222222222222,
              "#7201a8"
             ],
             [
              0.3333333333333333,
              "#9c179e"
             ],
             [
              0.4444444444444444,
              "#bd3786"
             ],
             [
              0.5555555555555556,
              "#d8576b"
             ],
             [
              0.6666666666666666,
              "#ed7953"
             ],
             [
              0.7777777777777778,
              "#fb9f3a"
             ],
             [
              0.8888888888888888,
              "#fdca26"
             ],
             [
              1,
              "#f0f921"
             ]
            ],
            "type": "surface"
           }
          ],
          "table": [
           {
            "cells": {
             "fill": {
              "color": "#EBF0F8"
             },
             "line": {
              "color": "white"
             }
            },
            "header": {
             "fill": {
              "color": "#C8D4E3"
             },
             "line": {
              "color": "white"
             }
            },
            "type": "table"
           }
          ]
         },
         "layout": {
          "annotationdefaults": {
           "arrowcolor": "#2a3f5f",
           "arrowhead": 0,
           "arrowwidth": 1
          },
          "autotypenumbers": "strict",
          "coloraxis": {
           "colorbar": {
            "outlinewidth": 0,
            "ticks": ""
           }
          },
          "colorscale": {
           "diverging": [
            [
             0,
             "#8e0152"
            ],
            [
             0.1,
             "#c51b7d"
            ],
            [
             0.2,
             "#de77ae"
            ],
            [
             0.3,
             "#f1b6da"
            ],
            [
             0.4,
             "#fde0ef"
            ],
            [
             0.5,
             "#f7f7f7"
            ],
            [
             0.6,
             "#e6f5d0"
            ],
            [
             0.7,
             "#b8e186"
            ],
            [
             0.8,
             "#7fbc41"
            ],
            [
             0.9,
             "#4d9221"
            ],
            [
             1,
             "#276419"
            ]
           ],
           "sequential": [
            [
             0,
             "#0d0887"
            ],
            [
             0.1111111111111111,
             "#46039f"
            ],
            [
             0.2222222222222222,
             "#7201a8"
            ],
            [
             0.3333333333333333,
             "#9c179e"
            ],
            [
             0.4444444444444444,
             "#bd3786"
            ],
            [
             0.5555555555555556,
             "#d8576b"
            ],
            [
             0.6666666666666666,
             "#ed7953"
            ],
            [
             0.7777777777777778,
             "#fb9f3a"
            ],
            [
             0.8888888888888888,
             "#fdca26"
            ],
            [
             1,
             "#f0f921"
            ]
           ],
           "sequentialminus": [
            [
             0,
             "#0d0887"
            ],
            [
             0.1111111111111111,
             "#46039f"
            ],
            [
             0.2222222222222222,
             "#7201a8"
            ],
            [
             0.3333333333333333,
             "#9c179e"
            ],
            [
             0.4444444444444444,
             "#bd3786"
            ],
            [
             0.5555555555555556,
             "#d8576b"
            ],
            [
             0.6666666666666666,
             "#ed7953"
            ],
            [
             0.7777777777777778,
             "#fb9f3a"
            ],
            [
             0.8888888888888888,
             "#fdca26"
            ],
            [
             1,
             "#f0f921"
            ]
           ]
          },
          "colorway": [
           "#636efa",
           "#EF553B",
           "#00cc96",
           "#ab63fa",
           "#FFA15A",
           "#19d3f3",
           "#FF6692",
           "#B6E880",
           "#FF97FF",
           "#FECB52"
          ],
          "font": {
           "color": "#2a3f5f"
          },
          "geo": {
           "bgcolor": "white",
           "lakecolor": "white",
           "landcolor": "#E5ECF6",
           "showlakes": true,
           "showland": true,
           "subunitcolor": "white"
          },
          "hoverlabel": {
           "align": "left"
          },
          "hovermode": "closest",
          "mapbox": {
           "style": "light"
          },
          "paper_bgcolor": "white",
          "plot_bgcolor": "#E5ECF6",
          "polar": {
           "angularaxis": {
            "gridcolor": "white",
            "linecolor": "white",
            "ticks": ""
           },
           "bgcolor": "#E5ECF6",
           "radialaxis": {
            "gridcolor": "white",
            "linecolor": "white",
            "ticks": ""
           }
          },
          "scene": {
           "xaxis": {
            "backgroundcolor": "#E5ECF6",
            "gridcolor": "white",
            "gridwidth": 2,
            "linecolor": "white",
            "showbackground": true,
            "ticks": "",
            "zerolinecolor": "white"
           },
           "yaxis": {
            "backgroundcolor": "#E5ECF6",
            "gridcolor": "white",
            "gridwidth": 2,
            "linecolor": "white",
            "showbackground": true,
            "ticks": "",
            "zerolinecolor": "white"
           },
           "zaxis": {
            "backgroundcolor": "#E5ECF6",
            "gridcolor": "white",
            "gridwidth": 2,
            "linecolor": "white",
            "showbackground": true,
            "ticks": "",
            "zerolinecolor": "white"
           }
          },
          "shapedefaults": {
           "line": {
            "color": "#2a3f5f"
           }
          },
          "ternary": {
           "aaxis": {
            "gridcolor": "white",
            "linecolor": "white",
            "ticks": ""
           },
           "baxis": {
            "gridcolor": "white",
            "linecolor": "white",
            "ticks": ""
           },
           "bgcolor": "#E5ECF6",
           "caxis": {
            "gridcolor": "white",
            "linecolor": "white",
            "ticks": ""
           }
          },
          "title": {
           "x": 0.05
          },
          "xaxis": {
           "automargin": true,
           "gridcolor": "white",
           "linecolor": "white",
           "ticks": "",
           "title": {
            "standoff": 15
           },
           "zerolinecolor": "white",
           "zerolinewidth": 2
          },
          "yaxis": {
           "automargin": true,
           "gridcolor": "white",
           "linecolor": "white",
           "ticks": "",
           "title": {
            "standoff": 15
           },
           "zerolinecolor": "white",
           "zerolinewidth": 2
          }
         }
        }
       }
      }
     },
     "metadata": {},
     "output_type": "display_data"
    }
   ],
   "source": [
    "import plotly.express as px\n",
    "import numpy as np\n",
    "\n",
    "fig = px.sunburst(sdf, path=['Outreach_type', 'Activity'], values='Counts',\n",
    "                  color='Outreach_type', \n",
    "                  color_continuous_scale='RdBu')\n",
    "fig.show()"
   ]
  },
  {
   "cell_type": "code",
   "execution_count": 47,
   "metadata": {},
   "outputs": [
    {
     "name": "stdout",
     "output_type": "stream",
     "text": [
      "1.0\n",
      "299.0\n"
     ]
    },
    {
     "data": {
      "text/plain": [
       "Text(0, 0.5, ' ')"
      ]
     },
     "execution_count": 47,
     "metadata": {},
     "output_type": "execute_result"
    },
    {
     "data": {
      "image/png": "[encoded data removed]",
      "text/plain": [
       "<Figure size 576x360 with 1 Axes>"
      ]
     },
     "metadata": {
      "needs_background": "light"
     },
     "output_type": "display_data"
    }
   ],
   "source": [
    "ax = sdf.plot(kind='barh', x='Activity', y=\"Counts\", color=inner_colors, legend=False, ec = 'k', figsize=(8,5))\n",
    "for p in ax.patches:\n",
    "    width, height = p.get_width(), p.get_height()\n",
    "    print(width)\n",
    "    x, y = p.get_xy() \n",
    "    ax.text(x+width/2, \n",
    "            y+height/2, \n",
    "            '{:.0f}'.format(width), \n",
    "            horizontalalignment='center', \n",
    "            verticalalignment='center',\n",
    "            color = 'k')\n",
    "ax.set_ylabel(' ')"
   ]
  }
 ],
 "metadata": {
  "kernelspec": {
   "display_name": "Python 3.10.0 ('ds')",
   "language": "python",
   "name": "python3"
  },
  "language_info": {
   "codemirror_mode": {
    "name": "ipython",
    "version": 3
   },
   "file_extension": ".py",
   "mimetype": "text/x-python",
   "name": "python",
   "nbconvert_exporter": "python",
   "pygments_lexer": "ipython3",
   "version": "3.10.0"
  },
  "orig_nbformat": 4,
  "vscode": {
   "interpreter": {
    "hash": "cfbd9e98e3e2dd8cb155d608030b00bf9c612b89d4a25a4af67a4e44b0e9b9d2"
   }
  }
 },
 "nbformat": 4,
 "nbformat_minor": 2
}
